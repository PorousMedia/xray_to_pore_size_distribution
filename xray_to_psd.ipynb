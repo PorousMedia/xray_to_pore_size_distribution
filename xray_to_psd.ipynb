{
 "cells": [
  {
   "cell_type": "markdown",
   "metadata": {},
   "source": [
    "# Augmenting Xray micro-CT data with MICP data for high resolution pore-microstructural and flow modelling of carbonate rocks.\n",
    "### Extracting pore size distribution from xray data."
   ]
  },
  {
   "cell_type": "markdown",
   "metadata": {
    "colab_type": "text",
    "id": "UEBilEjLj5wY"
   },
   "source": [
    "Lead Invsestigator: Olubukola Ishola (olubukola.ishola@okstate.edu)\\\n",
    "Co-Investigator: Javier Vilcaez\\\n",
    "Paper:\\\n",
    "Code base:"
   ]
  },
  {
   "cell_type": "markdown",
   "metadata": {
    "colab_type": "text",
    "id": "MkoGLH_Tj5wn",
    "tags": []
   },
   "source": [
    "### Importing Packages"
   ]
  },
  {
   "cell_type": "code",
   "execution_count": null,
   "metadata": {
    "colab": {
     "autoexec": {
      "startup": false,
      "wait_interval": 0
     }
    },
    "colab_type": "code",
    "id": "ORj09gnrj5wp"
   },
   "outputs": [],
   "source": [
    "import numpy as np\n",
    "import porespy as ps\n",
    "import imageio as io\n",
    "import os\n",
    "import pandas as pd"
   ]
  },
  {
   "cell_type": "markdown",
   "metadata": {},
   "source": [
    "### Adjust Settings?"
   ]
  },
  {
   "cell_type": "code",
   "execution_count": null,
   "metadata": {},
   "outputs": [],
   "source": [
    "ps.visualization.set_mpl_style()\n",
    "np.random.seed(1)"
   ]
  },
  {
   "cell_type": "markdown",
   "metadata": {},
   "source": [
    "### Helper Functions"
   ]
  },
  {
   "cell_type": "code",
   "execution_count": null,
   "metadata": {},
   "outputs": [],
   "source": [
    "def xray_to_psd(filename,\n",
    "                resolution,\n",
    "                sub_volume=[100],\n",
    "                file_path=False,\n",
    "                save_path=False,\n",
    "                return_psd=False,\n",
    "                save_psd=True,\n",
    "                save_rev=True):\n",
    "    \"\"\"\n",
    "    Converts binary segmented xray images of rocks to pore size distribution. Pore is White=255, background is black=0. Note that size here means radius.\n",
    "\n",
    "    Parameters\n",
    "    ----------\n",
    "    filename : str\n",
    "        Name of file including extension.\n",
    "    resolution : float\n",
    "        Resolution of image in microns.\n",
    "    subvolume : float, optional\n",
    "        Percentage of length scale to process. Must be between 0 and 100. Defaults is 100.\n",
    "    file_path : str, optional\n",
    "        Directory of folder where input file is located. Defaults is working directory.\n",
    "    save_path : str, optional\n",
    "        Directory of folder where output file is saved. Defaults is working directory.\n",
    "    return_psd : bolean, optional\n",
    "        If you want the pore size distribution returned. Default is False..\n",
    "    save_psd : str, optional\n",
    "        If you want the pore size distribution saved. Default is True.\n",
    "    save_rev : str, optional\n",
    "        If you want to return data on porosity against volume for REV analyis. Default is True.\n",
    "\n",
    "    Returns\n",
    "    -------\n",
    "    Pore size distribution : dataframe, optional\n",
    "\n",
    "    \"\"\"\n",
    "\n",
    "    if file_path:\n",
    "        file = os.path.join(file_path, filename)\n",
    "    else:\n",
    "        file = filename\n",
    "\n",
    "    image = io.volread(file)\n",
    "    image = np.invert(image)\n",
    "    image //= 255\n",
    "    len_ = min(image.shape)\n",
    "    image_volume = image.shape[0] * image.shape[1] * image.shape[2]\n",
    "    sample_porosity = np.sum(image) / image_volume\n",
    "\n",
    "    volume_rev = []\n",
    "    volume_rev.append(image_volume * ((resolution / 1000)**3))\n",
    "    porosity_rev = []\n",
    "    porosity_rev.append(sample_porosity)\n",
    "    print(\n",
    "        f\"Porosity of full image is {round(sample_porosity*100, 2)}% and the corresponding volume is {round(volume_rev[0], 2)} mm3.\"\n",
    "    )\n",
    "\n",
    "    for sub in sub_volume:\n",
    "        sub /= 100\n",
    "        sub *= len_\n",
    "        sub = int(sub)\n",
    "        sub_image = image[:sub, :sub, :sub]\n",
    "\n",
    "        snow = ps.filters.snow_partitioning(im=sub_image)\n",
    "        regions = snow.regions * snow.im\n",
    "        props = ps.metrics.regionprops_3D(regions)\n",
    "        df = ps.metrics.props_to_DataFrame(props)['volume']\n",
    "\n",
    "        sub_porosity = df.sum() / (sub**3)\n",
    "        sub_image_volume = (sub * (resolution / 1000))**3\n",
    "        volume_rev.append(sub_image_volume)\n",
    "        porosity_rev.append(sub_porosity)\n",
    "        print(\n",
    "            f\"Porosity of subvolume is {round(sub_porosity*100, 2)}% and the corresponding subvolume is {round(sub_image_volume, 2)} mm3.\"\n",
    "        )\n",
    "\n",
    "        excel_name = str(\n",
    "            sub_image_volume)[:5] + '_mm3_' + filename[:-4] + '.xlsx'\n",
    "\n",
    "        if save_path:\n",
    "            excel_name = os.path.join(save_path, excel_name)\n",
    "\n",
    "        df = pixel_volume_to_pore_radius(df, resolution=resolution)\n",
    "        df = df.rename(columns={'volume': 'Pore radius (microns)'})\n",
    "\n",
    "        if save_psd:\n",
    "            df.to_excel(excel_name, index=False)\n",
    "\n",
    "        if return_psd:\n",
    "            return df\n",
    "\n",
    "    if save_rev:\n",
    "        rev_df = pd.DataFrame({\n",
    "            'volume (mm3)': volume_rev,\n",
    "            'porosity (%)': porosity_rev,\n",
    "        })\n",
    "\n",
    "        rev_name = filename[:-4] + '.xlsx'\n",
    "\n",
    "        if save_path:\n",
    "            rev_name = os.path.join(save_path, rev_name)\n",
    "\n",
    "        rev_df.to_excel(rev_name, index=False)"
   ]
  },
  {
   "cell_type": "code",
   "execution_count": null,
   "metadata": {},
   "outputs": [],
   "source": [
    "def pixel_volume_to_pore_radius(pixel_volume, resolution):\n",
    "    \"\"\"\n",
    "    Converts pixel volume to the radius of an equivalent sphere.      \n",
    "\n",
    "    Parameters\n",
    "    ----------\n",
    "    pixel_volume : float\n",
    "        Volume reported by porespy in pixels.\n",
    "    resolution : float\n",
    "        Resolution of image in microns.\n",
    "\n",
    "    Returns\n",
    "    -------\n",
    "    Pore radius : float\n",
    "        pore radiusof equivalent sphere.\n",
    "    \n",
    "    \"\"\"\n",
    "\n",
    "    pixel_pore_radius = ((3 / 4) * (1 / 3.14) * pixel_volume)**(1 / 3)\n",
    "    pore_radius = pixel_pore_radius * resolution\n",
    "\n",
    "    return pore_radius"
   ]
  },
  {
   "cell_type": "markdown",
   "metadata": {},
   "source": [
    "### Inputs"
   ]
  },
  {
   "cell_type": "code",
   "execution_count": null,
   "metadata": {},
   "outputs": [],
   "source": [
    "filename = 'SampleA.tif'\n",
    "file_path = r'C:\\Users\\oishola\\OneDrive - Oklahoma A and M System\\Doctoral Dissertation\\Projects\\micp_xray_for_permeability_prediction_paper\\segmented_microct_images'\n",
    "resolution = 7.5\n",
    "sub_volume = [10, 20]"
   ]
  },
  {
   "cell_type": "markdown",
   "metadata": {},
   "source": [
    "### Run Program"
   ]
  },
  {
   "cell_type": "code",
   "execution_count": null,
   "metadata": {},
   "outputs": [],
   "source": [
    "xray_to_psd(filename, resolution, sub_volume, file_path=file_path)"
   ]
  }
 ],
 "metadata": {
  "accelerator": "GPU",
  "colab": {
   "collapsed_sections": [],
   "default_view": {},
   "name": "convnet-vgg16.ipynb",
   "provenance": [],
   "version": "0.3.2",
   "views": {}
  },
  "kernelspec": {
   "display_name": "Python 3 (ipykernel)",
   "language": "python",
   "name": "python3"
  },
  "language_info": {
   "codemirror_mode": {
    "name": "ipython",
    "version": 3
   },
   "file_extension": ".py",
   "mimetype": "text/x-python",
   "name": "python",
   "nbconvert_exporter": "python",
   "pygments_lexer": "ipython3",
   "version": "3.8.16"
  },
  "toc": {
   "nav_menu": {},
   "number_sections": true,
   "sideBar": true,
   "skip_h1_title": false,
   "title_cell": "Table of Contents",
   "title_sidebar": "Contents",
   "toc_cell": true,
   "toc_position": {
    "height": "calc(100% - 180px)",
    "left": "10px",
    "top": "150px",
    "width": "371px"
   },
   "toc_section_display": true,
   "toc_window_display": true
  },
  "toc-autonumbering": false,
  "toc-showcode": false,
  "toc-showmarkdowntxt": true
 },
 "nbformat": 4,
 "nbformat_minor": 4
}
