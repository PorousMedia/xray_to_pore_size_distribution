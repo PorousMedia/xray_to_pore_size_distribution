{
 "cells": [
  {
   "cell_type": "markdown",
   "metadata": {},
   "source": [
    "# Augmenting Xray micro-CT data with MICP data for high resolution pore-microstructural and flow modelling of carbonate rocks.\n",
    "### Extracting pore size distribution from xray data."
   ]
  },
  {
   "cell_type": "markdown",
   "metadata": {
    "colab_type": "text",
    "id": "UEBilEjLj5wY"
   },
   "source": [
    "Lead Invsestigator: Olubukola Ishola (olubukola.ishola@okstate.edu)\\\n",
    "Co-Investigator: Javier Vilcaez\\\n",
    "Associated Paper: Augmenting Xray micro-CT data with MICP data for high resolution pore-microstructural and flow modelling of carbonate rocks.\\\n",
    "DOI:"
   ]
  },
  {
   "cell_type": "markdown",
   "metadata": {},
   "source": [
    "The notebook demonstrates the workflow for obtaining pore size distribution from binarized micro-CT images. The general principle involves identifying each pore, estimating the volume of each pore, and ultimately determining the radius of a sphere with an equivalent volume of each pore. There is also an option to analyse the sample to see if it is representative."
   ]
  },
  {
   "cell_type": "markdown",
   "metadata": {},
   "source": [
    "### Install dependencies?"
   ]
  },
  {
   "cell_type": "code",
   "execution_count": 1,
   "metadata": {},
   "outputs": [],
   "source": [
    "# !conda install -c conda-forge porespy\n",
    "# !conda install -c conda-forge imageio"
   ]
  },
  {
   "cell_type": "markdown",
   "metadata": {
    "colab_type": "text",
    "id": "MkoGLH_Tj5wn",
    "tags": []
   },
   "source": [
    "### Importing Packages"
   ]
  },
  {
   "cell_type": "code",
   "execution_count": 2,
   "metadata": {
    "colab": {
     "autoexec": {
      "startup": false,
      "wait_interval": 0
     }
    },
    "colab_type": "code",
    "id": "ORj09gnrj5wp"
   },
   "outputs": [
    {
     "name": "stderr",
     "output_type": "stream",
     "text": [
      "C:\\Users\\geobu\\anaconda3\\envs\\pytorch\\lib\\site-packages\\openpnm\\algorithms\\_invasion_percolation.py:358: NumbaDeprecationWarning: \u001b[1mThe 'nopython' keyword argument was not supplied to the 'numba.jit' decorator. The implicit default value for this argument is currently False, but it will be changed to True in Numba 0.59.0. See https://numba.readthedocs.io/en/stable/reference/deprecation.html#deprecation-of-object-mode-fall-back-behaviour-when-using-jit for details.\u001b[0m\n",
      "  def _find_trapped_pores(inv_seq, indices, indptr, outlets):  # pragma: no cover\n"
     ]
    }
   ],
   "source": [
    "import numpy as np\n",
    "import porespy as ps\n",
    "import imageio as io\n",
    "import os\n",
    "import pandas as pd"
   ]
  },
  {
   "cell_type": "markdown",
   "metadata": {},
   "source": [
    "### Helper Functions"
   ]
  },
  {
   "cell_type": "code",
   "execution_count": 3,
   "metadata": {},
   "outputs": [],
   "source": [
    "def xray_to_psd(filename,\n",
    "                resolution,\n",
    "                sub_volume=[100],\n",
    "                file_path=False,\n",
    "                save_path=False,\n",
    "                return_psd=False,\n",
    "                save_psd=True,\n",
    "                save_rev=True):\n",
    "    \"\"\"\n",
    "    Converts binary segmented X-ray images of rocks to pore size distribution. Pores are represented by white pixels (255), while the background is black (0). Note that \"size\" here refers to radius. There is also an option to analyse the sample to see if it is representative.\n",
    "    \n",
    "    Parameters\n",
    "    ----------\n",
    "    filename : str\n",
    "        Name of the file including the extension.\n",
    "    resolution : float\n",
    "        Resolution of the image in microns.\n",
    "    subvolume : list, optional\n",
    "        A list specifying the percentage of the length scale to process. Must be between 0 and 100. Please note that this refers to the percentage of the length of one axis, not the percentage of the total volume. The default value is 100.\n",
    "    file_path : str, optional\n",
    "        Directory of the folder where the input file is located. The default value is the working directory.\n",
    "    save_path : str, optional\n",
    "        Directory of the folder where the output file will be saved. The default value is the working directory.\n",
    "    return_psd : boolean, optional\n",
    "        Indicates whether the pore size distribution should be returned. The default value is False.\n",
    "    save_psd : str, optional\n",
    "        Indicates whether the pore size distribution should be saved. The default value is True.\n",
    "    save_rev : str, optional\n",
    "        Indicates whether data on porosity against volume for REV analysis should be saved. The default value is True.\n",
    "\n",
    "    Returns\n",
    "    -------\n",
    "    Pore size distribution : dataframe, optional\n",
    "    \"\"\"\n",
    "\n",
    "\n",
    "    if file_path:\n",
    "        file = os.path.join(file_path, filename)\n",
    "    else:\n",
    "        file = filename\n",
    "\n",
    "    image = io.volread(file)\n",
    "    image = np.invert(image)\n",
    "    image //= 255\n",
    "    len_ = min(image.shape)\n",
    "    image_volume = image.shape[0] * image.shape[1] * image.shape[2]\n",
    "    sample_porosity = np.sum(image) / image_volume\n",
    "\n",
    "    volume_rev = []\n",
    "    volume_rev.append(image_volume * ((resolution / 1000)**3))\n",
    "    porosity_rev = []\n",
    "    porosity_rev.append(sample_porosity)\n",
    "    print(\n",
    "        f\"Porosity of full image is {round(sample_porosity*100, 2)}% and the corresponding volume is {round(volume_rev[0], 2)} mm3.\"\n",
    "    )\n",
    "\n",
    "    for sub in sub_volume:\n",
    "        sub /= 100\n",
    "        sub *= len_\n",
    "        sub = int(sub)\n",
    "        sub_image = image[:sub, :sub, :sub]\n",
    "\n",
    "        snow = ps.filters.snow_partitioning(im=sub_image)\n",
    "        regions = snow.regions * snow.im\n",
    "        props = ps.metrics.regionprops_3D(regions)\n",
    "        df = ps.metrics.props_to_DataFrame(props)['volume']\n",
    "\n",
    "        sub_porosity = df.sum() / (sub**3)\n",
    "        sub_image_volume = (sub * (resolution / 1000))**3\n",
    "        volume_rev.append(sub_image_volume)\n",
    "        porosity_rev.append(sub_porosity)\n",
    "        print(\n",
    "            f\"Porosity of subvolume is {round(sub_porosity*100, 2)}% and the corresponding subvolume is {round(sub_image_volume, 2)} mm3.\"\n",
    "        )\n",
    "\n",
    "        excel_name = str(\n",
    "            sub_image_volume)[:5] + '_mm3_' + filename[:-4] + '.xlsx'\n",
    "\n",
    "        if save_path:\n",
    "            excel_name = os.path.join(save_path, excel_name)\n",
    "\n",
    "        df = pixel_volume_to_pore_radius(df, resolution=resolution)\n",
    "\n",
    "        if save_psd:\n",
    "            custom_headers = ['Pore radius (microns)']\n",
    "            df.to_excel(excel_name, header=custom_headers, index=False)\n",
    "\n",
    "        if return_psd:\n",
    "            return df\n",
    "\n",
    "    if save_rev:\n",
    "        rev_df = pd.DataFrame({\n",
    "            'volume (mm3)': volume_rev,\n",
    "            'porosity (%)': porosity_rev,\n",
    "        })\n",
    "\n",
    "        rev_name = filename[:-4] + '.xlsx'\n",
    "\n",
    "        if save_path:\n",
    "            rev_name = os.path.join(save_path, rev_name)\n",
    "\n",
    "        rev_df.to_excel(rev_name, index=False)"
   ]
  },
  {
   "cell_type": "code",
   "execution_count": 4,
   "metadata": {},
   "outputs": [],
   "source": [
    "def pixel_volume_to_pore_radius(pixel_volume, resolution):\n",
    "    \"\"\"\n",
    "    Converts pixel volume to the radius of an equivalent sphere.      \n",
    "\n",
    "    Parameters\n",
    "    ----------\n",
    "    pixel_volume : float\n",
    "        Volume reported by porespy in pixels.\n",
    "    resolution : float\n",
    "        Resolution of image in microns.\n",
    "\n",
    "    Returns\n",
    "    -------\n",
    "    Pore radius : float\n",
    "        pore radiusof equivalent sphere.\n",
    "    \"\"\"\n",
    "\n",
    "    pixel_pore_radius = ((3 / 4) * (1 / 3.14) * pixel_volume)**(1 / 3)\n",
    "    pore_radius = pixel_pore_radius * resolution\n",
    "\n",
    "    return pore_radius"
   ]
  },
  {
   "cell_type": "markdown",
   "metadata": {},
   "source": [
    "### Inputs"
   ]
  },
  {
   "cell_type": "code",
   "execution_count": 5,
   "metadata": {},
   "outputs": [],
   "source": [
    "filename = 'SampleA.tif'\n",
    "file_path = r'.'\n",
    "resolution = 7.5\n",
    "sub_volume = [5]"
   ]
  },
  {
   "cell_type": "markdown",
   "metadata": {},
   "source": [
    "### Run Program"
   ]
  },
  {
   "cell_type": "code",
   "execution_count": 6,
   "metadata": {},
   "outputs": [
    {
     "name": "stdout",
     "output_type": "stream",
     "text": [
      "Porosity of full image is 11.97% and the corresponding volume is 421.87 mm3.\n"
     ]
    },
    {
     "data": {
      "application/vnd.jupyter.widget-view+json": {
       "model_id": "",
       "version_major": 2,
       "version_minor": 0
      },
      "text/plain": [
       "0it [00:00, ?it/s]"
      ]
     },
     "metadata": {},
     "output_type": "display_data"
    },
    {
     "name": "stdout",
     "output_type": "stream",
     "text": [
      "Porosity of subvolume is 17.5% and the corresponding subvolume is 0.05 mm3.\n"
     ]
    }
   ],
   "source": [
    "xray_to_psd(filename, resolution, sub_volume, file_path=file_path)"
   ]
  }
 ],
 "metadata": {
  "accelerator": "GPU",
  "colab": {
   "collapsed_sections": [],
   "default_view": {},
   "name": "convnet-vgg16.ipynb",
   "provenance": [],
   "version": "0.3.2",
   "views": {}
  },
  "kernelspec": {
   "display_name": "Python 3 (ipykernel)",
   "language": "python",
   "name": "python3"
  },
  "language_info": {
   "codemirror_mode": {
    "name": "ipython",
    "version": 3
   },
   "file_extension": ".py",
   "mimetype": "text/x-python",
   "name": "python",
   "nbconvert_exporter": "python",
   "pygments_lexer": "ipython3",
   "version": "3.9.16"
  },
  "toc": {
   "nav_menu": {},
   "number_sections": true,
   "sideBar": true,
   "skip_h1_title": false,
   "title_cell": "Table of Contents",
   "title_sidebar": "Contents",
   "toc_cell": true,
   "toc_position": {
    "height": "calc(100% - 180px)",
    "left": "10px",
    "top": "150px",
    "width": "371px"
   },
   "toc_section_display": true,
   "toc_window_display": true
  },
  "toc-autonumbering": false,
  "toc-showcode": false,
  "toc-showmarkdowntxt": true
 },
 "nbformat": 4,
 "nbformat_minor": 4
}
